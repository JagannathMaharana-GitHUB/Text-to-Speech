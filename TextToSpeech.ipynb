{
 "cells": [
  {
   "cell_type": "markdown",
   "id": "88288567-b4bb-45b0-9ddb-b4bdeee7c66c",
   "metadata": {},
   "source": [
    "# Google Text-To-Speech"
   ]
  },
  {
   "cell_type": "code",
   "execution_count": 9,
   "id": "765fe670-8a0c-4733-b31a-d06195b46835",
   "metadata": {},
   "outputs": [],
   "source": [
    "from gtts import gTTS\n",
    "tts = gTTS('Hello There')\n",
    "tts.save('X0.mp3')"
   ]
  },
  {
   "cell_type": "code",
   "execution_count": null,
   "id": "29f63172-f45b-4f53-80aa-a895bf23c664",
   "metadata": {},
   "outputs": [],
   "source": []
  },
  {
   "cell_type": "code",
   "execution_count": null,
   "id": "6d4a5f61-cc60-4c40-8977-991f0dacf4e1",
   "metadata": {},
   "outputs": [],
   "source": []
  }
 ],
 "metadata": {
  "kernelspec": {
   "display_name": "Python 3 (ipykernel)",
   "language": "python",
   "name": "python3"
  },
  "language_info": {
   "codemirror_mode": {
    "name": "ipython",
    "version": 3
   },
   "file_extension": ".py",
   "mimetype": "text/x-python",
   "name": "python",
   "nbconvert_exporter": "python",
   "pygments_lexer": "ipython3",
   "version": "3.11.7"
  }
 },
 "nbformat": 4,
 "nbformat_minor": 5
}
